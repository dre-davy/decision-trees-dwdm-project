{
  "cells": [
    {
      "metadata": {
        "_uuid": "8f2839f25d086af736a60e9eeb907d3b93b6e0e5",
        "_cell_guid": "b1076dfc-b9ad-4769-8c92-a6c4dae69d19",
        "trusted": true
      },
      "cell_type": "code",
      "source": "# This Python 3 environment comes with many helpful analytics libraries installed\n# It is defined by the kaggle/python docker image: https://github.com/kaggle/docker-python\n# For example, here's several helpful packages to load in \n\nimport numpy as np # linear algebra\nimport pandas as pd # data processing, CSV file I/O (e.g. pd.read_csv)\nimport matplotlib.pyplot as plt\n\n# Input data files are available in the \"../input/\" directory.\n# For example, running this (by clicking run or pressing Shift+Enter) will list the files in the input directory\n\nimport os\nprint(os.listdir(\"../input\"))\n\n# Any results you write to the current directory are saved as output.",
      "execution_count": null,
      "outputs": []
    },
    {
      "metadata": {
        "_cell_guid": "79c7e3d0-c299-4dcb-8224-4455121ee9b0",
        "_uuid": "d629ff2d2480ee46fbb7e2d37f6b5fab8052498a",
        "trusted": true
      },
      "cell_type": "code",
      "source": "data_path = '../input/credit-card-data.csv'\ndata = pd.read_csv(data_path)\nprint(\"Shape of data(rows.columns) : \",data.shape)\nprint(\"First 5 rows\")\ndata.head(5)",
      "execution_count": null,
      "outputs": []
    },
    {
      "metadata": {
        "trusted": true,
        "_uuid": "e8bc2969a0a7db4abf3b39aa0392bb6e25e9886c"
      },
      "cell_type": "code",
      "source": "data.columns",
      "execution_count": null,
      "outputs": []
    },
    {
      "metadata": {
        "trusted": true,
        "_uuid": "fbd2188fd81274f55041d27d16f9fd9cabbc2721"
      },
      "cell_type": "code",
      "source": "data.describe()",
      "execution_count": null,
      "outputs": []
    },
    {
      "metadata": {
        "trusted": true,
        "_uuid": "fa06f1b8341da676da3a0a8f9c8882ecabb77d6e"
      },
      "cell_type": "code",
      "source": "data['tenure'].value_counts().plot(kind='bar')",
      "execution_count": null,
      "outputs": []
    },
    {
      "metadata": {
        "trusted": true,
        "_uuid": "8dfe2ff063d4bf972ece2b6038beffb5be833060"
      },
      "cell_type": "code",
      "source": "data['tenure'].value_counts().plot(kind='pie')",
      "execution_count": null,
      "outputs": []
    },
    {
      "metadata": {
        "trusted": true,
        "_uuid": "007993bb27e8620fdce7184c3314160b99352c4e"
      },
      "cell_type": "code",
      "source": "data['tenure'].value_counts().drop(12)",
      "execution_count": null,
      "outputs": []
    },
    {
      "metadata": {
        "trusted": true,
        "_uuid": "f834214c933416e89f945ffc95d8e0951086dd79"
      },
      "cell_type": "code",
      "source": "data['tenure'].value_counts().drop(12).plot(kind='bar')",
      "execution_count": null,
      "outputs": []
    },
    {
      "metadata": {
        "trusted": true,
        "_uuid": "5b7632918c1e7658ea71fe7fda797fe6b9aa79e6"
      },
      "cell_type": "code",
      "source": "tenure = data['tenure'].value_counts()",
      "execution_count": null,
      "outputs": []
    },
    {
      "metadata": {
        "trusted": true,
        "_uuid": "4e41ef84002cc064e856b23765970212134b0b1a"
      },
      "cell_type": "code",
      "source": "tenure.sort_index()",
      "execution_count": null,
      "outputs": []
    },
    {
      "metadata": {
        "trusted": true,
        "_uuid": "93027df92c5b60b98d5f64518f2a33eacd293c85"
      },
      "cell_type": "code",
      "source": "data['tenure'].value_counts().drop(12).plot(kind='bar', title=\"Tenure of Credit Card Holders\")\nprint(\"Number of credit card holders with tenure of 12 months : %d\" % tenure[12])",
      "execution_count": null,
      "outputs": []
    },
    {
      "metadata": {
        "trusted": true,
        "_uuid": "93995ff9b99ba4d36a650cbe03c3114efcb2a7aa"
      },
      "cell_type": "code",
      "source": "for col in data.columns[2:]:\n    data[col].plot(kind='box')\n    plt.title('Box Plot For'+col)\n    plt.show()",
      "execution_count": null,
      "outputs": []
    },
    {
      "metadata": {
        "trusted": true,
        "_uuid": "b935cfe305b21fd082932a64ed470f1816a3516d"
      },
      "cell_type": "code",
      "source": "cluster_data = data[['purchases','payments']]\ncluster_data.head()",
      "execution_count": null,
      "outputs": []
    },
    {
      "metadata": {
        "trusted": true,
        "_uuid": "fefe7224c971c76601771b249f99b11bcd051b13"
      },
      "cell_type": "code",
      "source": "cluster_data.plot(kind='scatter',x='purchases',y='payments')",
      "execution_count": null,
      "outputs": []
    },
    {
      "metadata": {
        "trusted": true,
        "_uuid": "70bd88f1aad3e3990d13992773064a7957da06e3"
      },
      "cell_type": "code",
      "source": "missing_data_results = cluster_data.isnull().sum()\nmissing_data_results\n#cluster_data = cluster_data.filling( data.medan() )",
      "execution_count": null,
      "outputs": []
    },
    {
      "metadata": {
        "trusted": true,
        "_uuid": "a08bc139a9d5fdc920e161413c0a42bbb4d53e7e"
      },
      "cell_type": "code",
      "source": "data_values = cluster_data.iloc[ :, :].values\ndata_values",
      "execution_count": null,
      "outputs": []
    },
    {
      "metadata": {
        "trusted": true,
        "_uuid": "5ceac204174090ec855bdad397da35900153b945"
      },
      "cell_type": "code",
      "source": "#import KMeans algorithm\nfrom sklearn.cluster import KMeans",
      "execution_count": null,
      "outputs": []
    },
    {
      "metadata": {
        "trusted": true,
        "_uuid": "32cf1886e403137be4d47839f0de90d38778c9a9"
      },
      "cell_type": "code",
      "source": "\n# Use the Elbow method to find a good number of clusters using WCSS (within-cluster sums of squares)\nwcss = []\nfor i in range( 1, 15 ):\n    kmeans = KMeans(n_clusters=i, init=\"k-means++\", n_init=10, max_iter=300) \n    kmeans.fit_predict( data_values )\n    wcss.append( kmeans.inertia_ )\n    \nplt.plot( wcss, 'ro-', label=\"WCSS\")\nplt.title(\"Computing WCSS for KMeans++\")\nplt.xlabel(\"Number of clusters\")\nplt.ylabel(\"WCSS\")\nplt.show()",
      "execution_count": null,
      "outputs": []
    },
    {
      "metadata": {
        "trusted": true,
        "_uuid": "9b196fe8bd6121ec045fbd9f4d70edcd0d41dc17"
      },
      "cell_type": "code",
      "source": "# Use the Elbow method to find a good number of clusters using WCSS (within-cluster sums of squares)\nwcss = []\nfor i in range( 1, 15 ):\n    kmeans = KMeans(n_clusters=i, init=\"k-means++\", n_init=10, max_iter=300) \n    kmeans.fit_predict( data_values )\n    wcss.append( kmeans.inertia_ )\n    \nplt.plot( wcss, 'go-', label=\"WCSS\")\nplt.title(\"Computing WCSS for KMeans++\")\nplt.xlabel(\"Number of clusters\")\nplt.ylabel(\"WCSS\")\nplt.show()",
      "execution_count": null,
      "outputs": []
    },
    {
      "metadata": {
        "trusted": true,
        "_uuid": "95b44e7ef94596b558d90420ebc09a5c48389b3c"
      },
      "cell_type": "code",
      "source": "number_of_clusters=3\nkmeans = KMeans(n_clusters=number_of_clusters, init=\"k-means++\", n_init=10, max_iter=300) ",
      "execution_count": null,
      "outputs": []
    },
    {
      "metadata": {
        "trusted": true,
        "_uuid": "3092513fc2d61c24154cbfdd71b2b6a684378a97"
      },
      "cell_type": "code",
      "source": "kmeans.fit(data_values)\ncluster_data['cluster']=kmeans.labels_\ncluster_data.head(5)",
      "execution_count": null,
      "outputs": []
    },
    {
      "metadata": {
        "trusted": true,
        "_uuid": "2f657a603b1c0f761d76a4d00141fbce247cd288"
      },
      "cell_type": "code",
      "source": "kmeans.labels_",
      "execution_count": null,
      "outputs": []
    },
    {
      "metadata": {
        "trusted": true,
        "_uuid": "8d0781875b46069c06905b2f7b11c5a21c5a9a79"
      },
      "cell_type": "code",
      "source": "cluster_data['cluster'].value_counts().plot(kind='bar',title=\"Distribution of persons across groups\")",
      "execution_count": null,
      "outputs": []
    },
    {
      "metadata": {
        "trusted": true,
        "_uuid": "3b4798ea6cff4853a0db484497bb94094507ce5e"
      },
      "cell_type": "code",
      "source": "group_counts = cluster_data['cluster'].value_counts()\ngroup_counts.name = 'Amount of persons in each group'\npd.DataFrame(group_counts)",
      "execution_count": null,
      "outputs": []
    },
    {
      "metadata": {
        "trusted": true,
        "_uuid": "90d7b38ade79256a39900cda0181979895322735"
      },
      "cell_type": "code",
      "source": "import seaborn as sns",
      "execution_count": null,
      "outputs": []
    },
    {
      "metadata": {
        "trusted": true,
        "_uuid": "d99bcf3dd439b64c6518dde709ecabc74f97dca0"
      },
      "cell_type": "code",
      "source": "sns.pairplot(cluster_data,hue='cluster')",
      "execution_count": null,
      "outputs": []
    },
    {
      "metadata": {
        "trusted": true,
        "_uuid": "746538c26e9d83f2ebc0983cf7cd16acb47400ad"
      },
      "cell_type": "code",
      "source": "grouped_cluster_data = cluster_data.groupby('cluster')",
      "execution_count": null,
      "outputs": []
    },
    {
      "metadata": {
        "trusted": true,
        "_uuid": "280a8c2f020934fbc58d965cd17f4d3b1c779d80"
      },
      "cell_type": "code",
      "source": "grouped_cluster_data.describe()",
      "execution_count": null,
      "outputs": []
    },
    {
      "metadata": {
        "trusted": true,
        "_uuid": "d3936c8a3f1e3fb9ea3ea52c16280dd280c46c15"
      },
      "cell_type": "code",
      "source": "grouped_cluster_data.plot(subplots=True)",
      "execution_count": null,
      "outputs": []
    },
    {
      "metadata": {
        "trusted": true,
        "_uuid": "63e0493c1631f5db5b1f94b887c03898ba9f0bb7"
      },
      "cell_type": "code",
      "source": "data.info()",
      "execution_count": null,
      "outputs": []
    },
    {
      "metadata": {
        "trusted": true,
        "_uuid": "5adcb8dcc7539f7441c1cd6ff413692b1b8aa503"
      },
      "cell_type": "code",
      "source": "",
      "execution_count": null,
      "outputs": []
    }
  ],
  "metadata": {
    "kernelspec": {
      "display_name": "Python 3",
      "language": "python",
      "name": "python3"
    },
    "language_info": {
      "name": "python",
      "version": "3.6.6",
      "mimetype": "text/x-python",
      "codemirror_mode": {
        "name": "ipython",
        "version": 3
      },
      "pygments_lexer": "ipython3",
      "nbconvert_exporter": "python",
      "file_extension": ".py"
    }
  },
  "nbformat": 4,
  "nbformat_minor": 1
}